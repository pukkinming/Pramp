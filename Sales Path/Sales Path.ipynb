{
 "cells": [
  {
   "cell_type": "markdown",
   "metadata": {},
   "source": [
    "# Sales Path\n",
    "\n",
    "The car manufacturer Honda holds their distribution system in the form of a tree (not necessarily binary). The root is the company itself, and every node in the tree represents a car distributor that receives cars from the parent node and ships them to its children nodes. The leaf nodes are car dealerships that sell cars direct to consumers. In addition, every node holds an integer that is the cost of shipping a car to it.\n",
    "\n",
    "Take for example the tree below:\n",
    "\n",
    "<br/>\n",
    "<img src=\"./sales.png\" style=\"width: 600px\"><br/>\n",
    "\n",
    "A path from Honda’s factory to a car dealership, which is a path from the root to a leaf in the tree, is called a Sales Path. The cost of a Sales Path is the sum of the costs for every node in the path. For example, in the tree above one Sales Path is 0→3→0→10, and its cost is `13` (0+3+0+10).\n",
    "\n",
    "Honda wishes to find the minimal Sales Path cost in its distribution tree. Given a node `rootNode`, write a function `getCheapestCost` that calculates the minimal Sales Path cost in the tree.\n",
    "\n",
    "Implement your function in the most efficient manner and analyze its time and space complexities.\n",
    "\n",
    "For example:\n",
    "\n",
    "Given the `rootNode` of the tree in diagram above\n",
    "\n",
    "Your function would return:\n",
    "\n",
    "`7` since it’s the minimal Sales Path cost (there are actually two Sales Paths in the tree whose cost is `7`: `0→6→1` and `0→3→2→1→1`)\n",
    "\n",
    "Constraints:\n",
    "- [time limit] 5000ms\n",
    "- [input] Node `rootNode`, 0 ≤ rootNode.cost ≤ 100000\n",
    "- [output] integer\n",
    "\n"
   ]
  },
  {
   "cell_type": "code",
   "execution_count": 1,
   "metadata": {},
   "outputs": [],
   "source": [
    "###########################################################\n",
    "# Time:  O(n), where n is the number of nodes in the tree #\n",
    "# Space: O(n)                                             #\n",
    "###########################################################\n",
    "\n",
    "import sys \n",
    "\n",
    "def get_cheapest_cost(rootNode):\n",
    "    if rootNode.children:\n",
    "        lowest = sys.maxsize\n",
    "        for idx in range(len(rootNode.children)):\n",
    "            # go through recurisvely on each child node\n",
    "            # compare their cost sum one by one\n",
    "            child = rootNode.children[idx]\n",
    "            lowest = min(lowest, get_cheapest_cost(child))\n",
    "        return lowest + rootNode.cost\n",
    "    else:\n",
    "        return rootNode.cost"
   ]
  },
  {
   "cell_type": "code",
   "execution_count": 2,
   "metadata": {},
   "outputs": [],
   "source": [
    "########################################## \n",
    "# Use the helper code below to implement #\n",
    "# and test your function above           #\n",
    "##########################################\n",
    "\n",
    "# A node \n",
    "class Node:\n",
    "\n",
    "  # Constructor to create a new node\n",
    "  def __init__(self, cost):\n",
    "    self.cost = cost\n",
    "    self.children = []\n",
    "    self.parent = None"
   ]
  },
  {
   "cell_type": "code",
   "execution_count": 3,
   "metadata": {},
   "outputs": [],
   "source": [
    "# Test cases\n",
    "node_0 = Node(0)\n",
    "node_1_1 = Node(5)\n",
    "node_1_2 = Node(3)\n",
    "node_1_3 = Node(6)\n",
    "node_2_1 = Node(4)\n",
    "node_2_2 = Node(2)\n",
    "node_2_3 = Node(0)\n",
    "node_2_4 = Node(1)\n",
    "node_2_5 = Node(5)\n",
    "node_3_1 = Node(1)\n",
    "node_3_2 = Node(10)\n",
    "node_4_1 = Node(1)\n",
    "\n",
    "node_0.children = [node_1_1, node_1_2, node_1_3]\n",
    "\n",
    "node_1_1.parent = node_0\n",
    "node_1_1.children = [node_2_1]\n",
    "\n",
    "node_1_2.parent = node_0\n",
    "node_1_2.children = [node_2_2, node_2_3]\n",
    "\n",
    "node_1_3.parent = node_0\n",
    "node_1_3.children = [node_2_4, node_2_5]\n",
    "\n",
    "node_2_2.parent = node_1_2\n",
    "node_2_2.children = [node_3_1]\n",
    "\n",
    "node_2_3.parent = node_1_2\n",
    "node_2_3.children = [node_3_2]\n",
    "\n",
    "node_3_1.parent = node_2_2\n",
    "node_3_1.children = [node_4_1]\n",
    "\n",
    "node_3_2.parent = node_2_3\n",
    "\n",
    "node_4_1.parent = node_3_1"
   ]
  },
  {
   "cell_type": "code",
   "execution_count": 4,
   "metadata": {},
   "outputs": [
    {
     "name": "stdout",
     "output_type": "stream",
     "text": [
      "7\n"
     ]
    }
   ],
   "source": [
    "print(get_cheapest_cost(node_0))"
   ]
  }
 ],
 "metadata": {
  "kernelspec": {
   "display_name": "Python 3",
   "language": "python",
   "name": "python3"
  },
  "language_info": {
   "codemirror_mode": {
    "name": "ipython",
    "version": 3
   },
   "file_extension": ".py",
   "mimetype": "text/x-python",
   "name": "python",
   "nbconvert_exporter": "python",
   "pygments_lexer": "ipython3",
   "version": "3.5.6"
  },
  "varInspector": {
   "cols": {
    "lenName": 16,
    "lenType": 16,
    "lenVar": 40
   },
   "kernels_config": {
    "python": {
     "delete_cmd_postfix": "",
     "delete_cmd_prefix": "del ",
     "library": "var_list.py",
     "varRefreshCmd": "print(var_dic_list())"
    },
    "r": {
     "delete_cmd_postfix": ") ",
     "delete_cmd_prefix": "rm(",
     "library": "var_list.r",
     "varRefreshCmd": "cat(var_dic_list()) "
    }
   },
   "types_to_exclude": [
    "module",
    "function",
    "builtin_function_or_method",
    "instance",
    "_Feature"
   ],
   "window_display": false
  }
 },
 "nbformat": 4,
 "nbformat_minor": 2
}

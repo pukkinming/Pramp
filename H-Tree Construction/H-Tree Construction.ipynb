{
 "cells": [
  {
   "cell_type": "markdown",
   "metadata": {},
   "source": [
    "# H-Tree Construction\n",
    "\n",
    "An H-tree is a geometric shape that consists of a repeating pattern resembles the letter “H”.\n",
    "\n",
    "It can be constructed by starting with a line segment of arbitrary length, drawing two segments of the same length at right angles to the first through its endpoints, and continuing in the same vein, reducing (dividing) the length of the line segments drawn at each stage by √2.\n",
    "\n",
    "Here are some examples of H-trees at different levels of depth:\n",
    "\n",
    "<br/>\n",
    "<img src=\"./img.png\" style=\"width: 400px\"><br/>\n",
    "\n",
    "Write a function drawHTree that constructs an H-tree, given its center (x and y coordinates), a starting length, and depth. Assume that the starting line is parallel to the X-axis.\n",
    "\n",
    "Use the function drawLine provided to implement your algorithm. In a production code, a drawLine function would render a real line between two points. However, this is not a real production environment, so to make things easier, implement drawLine such that it simply prints its arguments (the print format is left to your discretion).\n",
    "\n",
    "Analyze the time and space complexity of your algorithm. In your analysis, assume that drawLine's time and space complexities are constant, i.e. O(1).\n",
    "\n",
    "Constraints:\n",
    "- [time limit] 5000ms\n",
    "- [input] double x\n",
    "- [input] double y\n",
    "- [input] double length\n",
    "- [input] double depth"
   ]
  },
  {
   "cell_type": "code",
   "execution_count": 1,
   "metadata": {},
   "outputs": [],
   "source": [
    "def drawHTree(x, y, length, depth):\n",
    "  # int(depth) == depth\n",
    "  if length > 0 and depth > 0 and int(depth) == depth:\n",
    "    #(x, y) coordinate of the center point of the horizontal line\n",
    "\n",
    "    # find the coordinates of the horizontal line and draw it\n",
    "    # h means horizontal\n",
    "    h_x_left = x - length/2\n",
    "    h_x_right = x + length/2\n",
    "    h_y_left = y\n",
    "    h_y_right = y\n",
    "    drawLine(h_x_left, h_y_left, h_x_right, h_y_right)\n",
    "\n",
    "    # find the coordinates of the vertical line on the left and draw it\n",
    "    # (h_x_left, h_y_left)\n",
    "    vLeft_x_top = h_x_left\n",
    "    vLeft_y_top = h_y_left + length/2\n",
    "    vLeft_x_bot = h_x_left\n",
    "    vLeft_y_bot = h_y_left - length/2\n",
    "    drawLine(vLeft_x_top, vLeft_y_top, vLeft_x_bot, vLeft_y_bot)\n",
    "\n",
    "    # find the coordinates of the vertical line on the right and draw it\n",
    "    # (h_x_right, h_y_right)\n",
    "    vRight_x_top = h_x_right\n",
    "    vRight_y_top = h_y_right + length/2\n",
    "    vRight_x_bot = h_x_right\n",
    "    vRight_y_bot = h_y_right - length/2\n",
    "    drawLine(vRight_x_top, vRight_y_top, vRight_x_bot, vRight_y_bot)\n",
    "\n",
    "\n",
    "    # if depth is one already, i will do nothing\n",
    "    # if depth is more than one, then i will call myself one more time (\\sqrt 2)\n",
    "    if depth > 1:\n",
    "      # top left\n",
    "      drawHTree(vLeft_x_top, vLeft_y_top, length/sqrt(2), depth-1)\n",
    "\n",
    "      # top right\n",
    "      drawHTree(vRight_x_top, vRight_y_top, length/sqrt(2), depth-1)\n",
    "\n",
    "      # bot left\n",
    "      drawHTree(vLeft_x_bot, vLeft_y_bot, length/sqrt(2), depth-1)\n",
    "\n",
    "      # bot right\n",
    "      drawHTree(vRight_x_bot, vRight_y_bot, length/sqrt(2), depth-1)\n",
    "\n",
    "\n",
    "def drawLine(x1, y1, x2, y2):\n",
    "    # this function is assumed to be working, no need to implement\n",
    "    pass\n",
    "\n",
    "\n"
   ]
  },
  {
   "cell_type": "code",
   "execution_count": 2,
   "metadata": {},
   "outputs": [],
   "source": [
    "x, y = 0, 0\n",
    "length, depth = 6, 1\n",
    "drawHTree(x, y, length, depth)"
   ]
  }
 ],
 "metadata": {
  "kernelspec": {
   "display_name": "Python 3",
   "language": "python",
   "name": "python3"
  },
  "language_info": {
   "codemirror_mode": {
    "name": "ipython",
    "version": 3
   },
   "file_extension": ".py",
   "mimetype": "text/x-python",
   "name": "python",
   "nbconvert_exporter": "python",
   "pygments_lexer": "ipython3",
   "version": "3.5.6"
  }
 },
 "nbformat": 4,
 "nbformat_minor": 2
}

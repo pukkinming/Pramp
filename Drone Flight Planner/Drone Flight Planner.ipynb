{
 "cells": [
  {
   "cell_type": "markdown",
   "metadata": {},
   "source": [
    "# Drone Flight Planner\n",
    "\n",
    "You’re an engineer at a disruptive drone delivery startup and your CTO asks you to come up with an efficient algorithm that calculates the minimum amount of energy required for the company’s drone to complete its flight. You know that the drone burns 1 kWh (kilowatt-hour is an energy unit) for every mile it ascends, and it gains 1 kWh for every mile it descends. Flying sideways neither burns nor adds any energy.\n",
    "\n",
    "Given an array route of 3D points, implement a function calcDroneMinEnergy that computes and returns the minimal amount of energy the drone would need to complete its route. Assume that the drone starts its flight at the first point in route. That is, no energy was expended to place the drone at the starting point.\n",
    "\n",
    "For simplicity, every 3D point will be represented as an integer array whose length is 3. Also, the values at indexes 0, 1, and 2 represent the `x`, `y` and `z` coordinates in a 3D point, respectively.\n",
    "\n",
    "Explain your solution and analyze its time and space complexities.\n",
    "\n",
    "- input:  route = [ [0,   2, 10], [3,   5,  0], [9,  20,  6], [10, 12, 15], [10, 10,  8] ]\n",
    "- output: 5 \n",
    "(less than 5 kWh and the drone would crash before the finish\n",
    " line. More than `5` kWh and it’d end up with excess energy)\n",
    "          \n",
    "## Constraints:\n",
    "- [time limit] 5000ms\n",
    "- [input] array.array.integer route, 1 ≤ route.length ≤ 100\n",
    "- [output] integer"
   ]
  },
  {
   "cell_type": "code",
   "execution_count": 1,
   "metadata": {},
   "outputs": [],
   "source": [
    "def calc_drone_min_energy(route):\n",
    "  diff = 0\n",
    "  for i in range(1, len(route)):\n",
    "    diff = max(diff, route[i][2] - route[0][2])\n",
    "  return diff"
   ]
  },
  {
   "cell_type": "code",
   "execution_count": 2,
   "metadata": {},
   "outputs": [
    {
     "data": {
      "text/plain": [
       "5"
      ]
     },
     "execution_count": 2,
     "metadata": {},
     "output_type": "execute_result"
    }
   ],
   "source": [
    "route = [ [0,   2, 10],\n",
    "          [3,   5,  0],\n",
    "          [9,  20,  6],\n",
    "          [10, 12, 15],\n",
    "          [10, 10,  8]]\n",
    "\n",
    "calc_drone_min_energy(route)"
   ]
  }
 ],
 "metadata": {
  "kernelspec": {
   "display_name": "Python 3",
   "language": "python",
   "name": "python3"
  },
  "language_info": {
   "codemirror_mode": {
    "name": "ipython",
    "version": 3
   },
   "file_extension": ".py",
   "mimetype": "text/x-python",
   "name": "python",
   "nbconvert_exporter": "python",
   "pygments_lexer": "ipython3",
   "version": "3.5.6"
  }
 },
 "nbformat": 4,
 "nbformat_minor": 2
}

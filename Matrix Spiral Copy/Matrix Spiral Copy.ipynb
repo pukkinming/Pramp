{
 "cells": [
  {
   "cell_type": "markdown",
   "metadata": {},
   "source": [
    "# Matrix Spiral Copy\n",
    "\n",
    "Given a 2D array (matrix) `inputMatrix` of integers, create a function `spiralCopy` that copies `inputMatrix`’s values into a 1D array in a spiral order, clockwise. Your function then should return that array. Analyze the time and space complexities of your solution.\n",
    "\n",
    "Example:\n",
    "\n",
    "input:  inputMatrix  = [ [1,    2,   3,  4,    5], [6,    7,   8,  9,   10], [11,  12,  13,  14,  15], [16,  17,  18,  19,  20] ]\n",
    "\n",
    "output: [1, 2, 3, 4, 5, 10, 15, 20, 19, 18, 17, 16, 11, 6, 7, 8, 9, 14, 13, 12]\n",
    "\n",
    "See the illustration below to understand better what a clockwise spiral order looks like.\n",
    "\n",
    "<br/>\n",
    "<img src=\"./img.png\" style=\"width: 400px\"><br/>\n",
    "\n",
    "Constraints:\n",
    "- [time limit] 5000ms\n",
    "- [input] array.array.integer `inputMatrix`, 1 ≤ inputMatrix[0].length ≤ 100, 1 ≤ inputMatrix.length ≤ 100\n",
    "- [output] array.integer"
   ]
  },
  {
   "cell_type": "code",
   "execution_count": 38,
   "metadata": {},
   "outputs": [],
   "source": [
    "# time: O(n * m), n is row size and m is column size\n",
    "# space: O(n * m)\n",
    "\n",
    "def spiral_copy(inputMatrix):\n",
    "    if len(inputMatrix) <= 0:\n",
    "        return ans\n",
    "    if len(inputMatrix) == 1 and len(inputMatrix[0]) == 1:\n",
    "        return inputMatrix\n",
    "\n",
    "    noRow, noCol = len(inputMatrix), len(inputMatrix[0])\n",
    "    topRow, bottomRow = 0, noRow - 1\n",
    "    leftCol, rightCol = 0, noCol -1\n",
    "    result = []\n",
    "    \n",
    "    while (topRow <= bottomRow and leftCol <= rightCol):\n",
    "        # copy top row\n",
    "        for i in range(leftCol, rightCol+1):\n",
    "            result.append(inputMatrix[topRow][i])\n",
    "        topRow += 1\n",
    "        \n",
    "        # copy right column\n",
    "        for j in range(topRow, bottomRow+1):\n",
    "            result.append(inputMatrix[j][rightCol])\n",
    "        rightCol -= 1\n",
    "    \n",
    "        # copy bottom row\n",
    "        for i in range(rightCol, leftCol-1, -1):\n",
    "            result.append(inputMatrix[bottomRow][i])\n",
    "        \n",
    "        \n",
    "        # copy left column\n",
    "        for j in range(bottomRow-1, topRow-1, -1):\n",
    "            result.append(inputMatrix[j][leftCol])\n",
    "            \n",
    "        leftCol += 1\n",
    "        bottomRow -= 1\n",
    "        \n",
    "    return result"
   ]
  },
  {
   "cell_type": "code",
   "execution_count": 39,
   "metadata": {},
   "outputs": [],
   "source": [
    "def spiral_copy_v2(matrix):\n",
    "    def spiral_coords(r1, c1, r2, c2):\n",
    "        for c in range(c1, c2 + 1):\n",
    "            yield r1, c\n",
    "        for r in range(r1 + 1, r2 + 1):\n",
    "            yield r, c2\n",
    "        if r1 < r2 and c1 < c2:\n",
    "            for c in range(c2 - 1, c1, -1):\n",
    "                yield r2, c\n",
    "            for r in range(r2, r1, -1):\n",
    "                yield r, c1\n",
    "\n",
    "    if not matrix: return []\n",
    "    ans = []\n",
    "    r1, r2 = 0, len(matrix) - 1\n",
    "    c1, c2 = 0, len(matrix[0]) - 1\n",
    "    while r1 <= r2 and c1 <= c2:\n",
    "        for r, c in spiral_coords(r1, c1, r2, c2):\n",
    "            ans.append(matrix[r][c])\n",
    "        r1 += 1; r2 -= 1\n",
    "        c1 += 1; c2 -= 1\n",
    "    return ans"
   ]
  },
  {
   "cell_type": "code",
   "execution_count": 40,
   "metadata": {},
   "outputs": [],
   "source": [
    "inputMatrix  = [ [1,    2,   3,  4,    5],\n",
    "                 [6,    7,   8,  9,   10],\n",
    "                 [11,  12,  13,  14,  15],\n",
    "                 [16,  17,  18,  19,  20] ]"
   ]
  },
  {
   "cell_type": "code",
   "execution_count": 41,
   "metadata": {},
   "outputs": [
    {
     "name": "stdout",
     "output_type": "stream",
     "text": [
      "[1, 2, 3, 4, 5, 10, 15, 20, 19, 18, 17, 16, 11, 6, 7, 8, 9, 14, 13, 12]\n"
     ]
    }
   ],
   "source": [
    "print(spiral_copy(inputMatrix))"
   ]
  },
  {
   "cell_type": "code",
   "execution_count": 25,
   "metadata": {},
   "outputs": [
    {
     "name": "stdout",
     "output_type": "stream",
     "text": [
      "[1, 2, 3, 4, 5, 10, 15, 20, 19, 18, 17, 16, 11, 6, 7, 8, 9, 14, 13, 12]\n"
     ]
    }
   ],
   "source": [
    "print(spiral_copy_v2(inputMatrix))"
   ]
  },
  {
   "cell_type": "code",
   "execution_count": 44,
   "metadata": {},
   "outputs": [],
   "source": [
    "inputMatrix2  = [[1,   2,  3,  4],\n",
    "                 [5,   6,  7,  8],\n",
    "                 [9,  10, 11, 12],\n",
    "                 [13, 14, 15, 16],\n",
    "                 [17, 18, 19, 20]]"
   ]
  },
  {
   "cell_type": "code",
   "execution_count": 45,
   "metadata": {},
   "outputs": [
    {
     "name": "stdout",
     "output_type": "stream",
     "text": [
      "[1, 2, 3, 4, 8, 12, 16, 20, 19, 18, 17, 13, 9, 5, 6, 7, 11, 15, 14, 10]\n"
     ]
    }
   ],
   "source": [
    "print(spiral_copy(inputMatrix2))"
   ]
  },
  {
   "cell_type": "code",
   "execution_count": 46,
   "metadata": {},
   "outputs": [
    {
     "name": "stdout",
     "output_type": "stream",
     "text": [
      "[1, 2, 3, 4, 8, 12, 16, 20, 19, 18, 17, 13, 9, 5, 6, 7, 11, 15, 14, 10]\n"
     ]
    }
   ],
   "source": [
    "print(spiral_copy_v2(inputMatrix2))\n"
   ]
  }
 ],
 "metadata": {
  "kernelspec": {
   "display_name": "Python 3",
   "language": "python",
   "name": "python3"
  },
  "language_info": {
   "codemirror_mode": {
    "name": "ipython",
    "version": 3
   },
   "file_extension": ".py",
   "mimetype": "text/x-python",
   "name": "python",
   "nbconvert_exporter": "python",
   "pygments_lexer": "ipython3",
   "version": "3.5.6"
  },
  "varInspector": {
   "cols": {
    "lenName": 16,
    "lenType": 16,
    "lenVar": 40
   },
   "kernels_config": {
    "python": {
     "delete_cmd_postfix": "",
     "delete_cmd_prefix": "del ",
     "library": "var_list.py",
     "varRefreshCmd": "print(var_dic_list())"
    },
    "r": {
     "delete_cmd_postfix": ") ",
     "delete_cmd_prefix": "rm(",
     "library": "var_list.r",
     "varRefreshCmd": "cat(var_dic_list()) "
    }
   },
   "types_to_exclude": [
    "module",
    "function",
    "builtin_function_or_method",
    "instance",
    "_Feature"
   ],
   "window_display": false
  }
 },
 "nbformat": 4,
 "nbformat_minor": 2
}

{
 "cells": [
  {
   "cell_type": "markdown",
   "metadata": {},
   "source": [
    "# Pairs with Specific Difference\n",
    "\n",
    "Given an array arr of distinct integers and a nonnegative integer k, write a function findPairsWithGivenDifference that returns an array of all pairs [x,y] in arr, such that x - y = k. If no such pairs exist, return an empty array.\n",
    "\n",
    "Note: the order of the pairs in the output array should maintain the order of the y element in the original array.\n",
    "\n",
    "## Examples:\n",
    "\n",
    "- input:  arr = [0, -1, -2, 2, 1], k = 1\n",
    "- output: [[1, 0], [0, -1], [-1, -2], [2, 1]]\n",
    "<br/><br/>\n",
    "- input:  arr = [1, 7, 5, 3, 32, 17, 12], k = 17\n",
    "- output: []\n",
    "<br/>\n",
    "\n",
    "## Constraints:\n",
    "- [time limit] 5000ms\n",
    "- [input] array.integer arr, 0 ≤ arr.length ≤ 100\n",
    "- [input]integer k, k ≥ 0\n",
    "- [output] array.array.integer"
   ]
  },
  {
   "cell_type": "code",
   "execution_count": 1,
   "metadata": {},
   "outputs": [],
   "source": [
    "# naive solution\n",
    "def find_pairs_with_given_difference2(arr, k):\n",
    "  ans = []\n",
    "  for i in arr:\n",
    "    for j in arr:\n",
    "      if j - i == k:\n",
    "        ans.append([i, j])\n",
    "  return ans"
   ]
  },
  {
   "cell_type": "code",
   "execution_count": 2,
   "metadata": {},
   "outputs": [],
   "source": [
    "# acceptable solution using set, which has O(1) lookup time\n",
    "def find_pairs_with_given_difference(arr, k):\n",
    "  arr_set = set(arr)\n",
    "  ans = []\n",
    "  for i in arr:\n",
    "    if k + i in arr_set:\n",
    "      ans.append([k+i, i])\n",
    "  return ans"
   ]
  },
  {
   "cell_type": "code",
   "execution_count": 3,
   "metadata": {},
   "outputs": [
    {
     "name": "stdout",
     "output_type": "stream",
     "text": [
      "[[1, 0], [0, -1], [-1, -2], [2, 1]]\n"
     ]
    }
   ],
   "source": [
    "arr = [0, -1, -2, 2, 1]\n",
    "k = 1\n",
    "print(find_pairs_with_given_difference(arr, k))"
   ]
  }
 ],
 "metadata": {
  "kernelspec": {
   "display_name": "Python 3",
   "language": "python",
   "name": "python3"
  },
  "language_info": {
   "codemirror_mode": {
    "name": "ipython",
    "version": 3
   },
   "file_extension": ".py",
   "mimetype": "text/x-python",
   "name": "python",
   "nbconvert_exporter": "python",
   "pygments_lexer": "ipython3",
   "version": "3.5.6"
  }
 },
 "nbformat": 4,
 "nbformat_minor": 2
}

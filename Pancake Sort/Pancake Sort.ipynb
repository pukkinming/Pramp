{
 "cells": [
  {
   "cell_type": "markdown",
   "metadata": {},
   "source": [
    "# Pancake Sort\n",
    "\n",
    "Given an array of integers arr:\n",
    "\n",
    "- Write a function flip(arr, k) that reverses the order of the first k elements in the array arr.\n",
    "- Write a function pancakeSort(arr) that sorts and returns the input array. You are allowed to use only the function flip you wrote in the first step in order to make changes in the array."
   ]
  },
  {
   "cell_type": "markdown",
   "metadata": {},
   "source": [
    "## Example:\n",
    "\n",
    "- input:  arr = [1, 5, 4, 3, 2] <br/>\n",
    "- output: [1, 2, 3, 4, 5] # to clarify, this is pancakeSort's output"
   ]
  },
  {
   "cell_type": "markdown",
   "metadata": {},
   "source": [
    "Analyze the time and space complexities of your solution.\n",
    "\n",
    "Note: it’s called pancake sort because it resembles sorting pancakes on a plate with a spatula, where you can only use the spatula to flip some of the top pancakes in the plate. To read more about the problem, see the Pancake Sorting Wikipedia page.\n",
    "\n",
    "## Constraints:\n",
    "- [time limit] 5000ms\n",
    "- [input] array.integer arr\n",
    "- [input] integer k, 0 ≤ k\n",
    "- [output] array.integer"
   ]
  },
  {
   "cell_type": "code",
   "execution_count": 1,
   "metadata": {},
   "outputs": [],
   "source": [
    "def flip(arr,k):\n",
    "  if k > len(arr):\n",
    "    return -1\n",
    "  if k == 1:\n",
    "    return arr\n",
    "  for i in range(0, int(k/2)):\n",
    "    arr[i], arr[k-i-1] = arr[k-i-1], arr[i]\n",
    "  return arr\n",
    "\n",
    "\n",
    "def find_max(arr):\n",
    "  if arr:\n",
    "    max_no, idx = arr[0], 0\n",
    "    for i in range(1, len(arr)):\n",
    "      if arr[i] > max_no:\n",
    "        max_no, idx = arr[i], i\n",
    "    return idx\n",
    "  else:\n",
    "    return -1\n",
    "\n",
    "  \n",
    "def pancake_sort(arr):\n",
    "  for i in range(len(arr)-1,-1,-1):\n",
    "    max_index = find_max(arr[0:i+1])\n",
    "    arr = flip(arr, max_index+1)\n",
    "    arr = flip(arr, i+1)\n",
    "  return arr"
   ]
  },
  {
   "cell_type": "code",
   "execution_count": 2,
   "metadata": {},
   "outputs": [
    {
     "name": "stdout",
     "output_type": "stream",
     "text": [
      "[0, 1, 2, 3, 4, 5]\n"
     ]
    }
   ],
   "source": [
    "print(pancake_sort([4,5,3,2,1,0]))"
   ]
  },
  {
   "cell_type": "code",
   "execution_count": 3,
   "metadata": {},
   "outputs": [
    {
     "name": "stdout",
     "output_type": "stream",
     "text": [
      "[1, 2, 3, 4, 5]\n"
     ]
    }
   ],
   "source": [
    "print(pancake_sort([4,5,3,2,1]))"
   ]
  }
 ],
 "metadata": {
  "kernelspec": {
   "display_name": "Python 3",
   "language": "python",
   "name": "python3"
  },
  "language_info": {
   "codemirror_mode": {
    "name": "ipython",
    "version": 3
   },
   "file_extension": ".py",
   "mimetype": "text/x-python",
   "name": "python",
   "nbconvert_exporter": "python",
   "pygments_lexer": "ipython3",
   "version": "3.5.6"
  }
 },
 "nbformat": 4,
 "nbformat_minor": 2
}

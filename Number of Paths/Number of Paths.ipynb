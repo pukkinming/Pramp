{
 "cells": [
  {
   "cell_type": "markdown",
   "metadata": {},
   "source": [
    "# Number of Paths\n",
    "\n",
    "You’re testing a new driverless car that is located at the Southwest (bottom-left) corner of an n×n grid. The car is supposed to get to the opposite, Northeast (top-right), corner of the grid. Given n, the size of the grid’s axes, write a function numOfPathsToDest that returns the number of the possible paths the driverless car can take. <br/>\n",
    "<img src=\"./img07.png\" style=\"width: 400px\"><br/>\n",
    "For convenience, let’s represent every square in the grid as a pair (i,j). The first coordinate in the pair denotes the east-to-west axis, and the second coordinate denotes the south-to-north axis. The initial state of the car is (0,0), and the destination is (n-1,n-1).\n",
    "\n",
    "The car must abide by the following two rules: it cannot cross the diagonal border. In other words, in every step the position (i,j) needs to maintain i >= j. See the illustration above for n = 5. In every step, it may go one square North (up), or one square East (right), but not both. E.g. if the car is at (3,1), it may go to (3,2) or (4,1).\n",
    "\n",
    "Explain the correctness of your function, and analyze its time and space complexities.<br/>\n",
    "\n",
    "Example:<br/>\n",
    "input:  n = 4<br/>\n",
    "output: 5 # since there are five possibilities:<br/>\n",
    "          # “EEENNN”, “EENENN”, “ENEENN”, “ENENEN”, “EENNEN”,<br/>\n",
    "          # where the 'E' character stands for moving one step<br/>\n",
    "          # East, and the 'N' character stands for moving one step<br/>\n",
    "          # North (so, for instance, the path sequence “EEENNN”<br/>\n",
    "          # stands for the following steps that the car took:<br/>\n",
    "          # East, East, East, North, North, North)<br/><br/>\n",
    "          \n",
    "Constraints:<br/>\n",
    "\n",
    "- time limit: 5000ms<br/>\n",
    "- input: integer n, 1 ≤ n ≤ 100<br/>\n",
    "- output: integer<br/>"
   ]
  },
  {
   "cell_type": "code",
   "execution_count": 1,
   "metadata": {},
   "outputs": [],
   "source": [
    "def num_of_paths_to_dest(n):\n",
    "  record = {}\n",
    "  \n",
    "  def getNumber(i, j):\n",
    "    if i < j or i < 0 or j < 0:\n",
    "      return 0\n",
    "    elif i == 0 and j == 0:\n",
    "      return 1\n",
    "    \n",
    "    if (i,j) in record:\n",
    "      return record[i,j]\n",
    "    \n",
    "    result = getNumber(i-1, j) + getNumber(i, j-1)\n",
    "    record[i, j] = result\n",
    "    return result\n",
    "\n",
    "  return getNumber(n-1, n-1)"
   ]
  },
  {
   "cell_type": "code",
   "execution_count": 2,
   "metadata": {},
   "outputs": [
    {
     "name": "stdout",
     "output_type": "stream",
     "text": [
      "5\n"
     ]
    }
   ],
   "source": [
    "print(num_of_paths_to_dest(4))"
   ]
  },
  {
   "cell_type": "code",
   "execution_count": 3,
   "metadata": {},
   "outputs": [],
   "source": [
    "def num_of_paths_to_dest_v2(n):\n",
    "  paths = [[0 for col in range(n)] for row in range(n)]\n",
    "  \n",
    "  for row in range(n):\n",
    "    for col in range(row, n):\n",
    "      if row == 0 and col == 0:\n",
    "        paths[row][col] = 1\n",
    "      if row > 0:\n",
    "        paths[row][col] += paths[row-1][col]\n",
    "      if col > 0:\n",
    "        paths[row][col] += paths[row][col -1]\n",
    "  return paths[-1][-1]\n"
   ]
  },
  {
   "cell_type": "code",
   "execution_count": 4,
   "metadata": {},
   "outputs": [
    {
     "name": "stdout",
     "output_type": "stream",
     "text": [
      "5\n"
     ]
    }
   ],
   "source": [
    "print(num_of_paths_to_dest_v2(4))"
   ]
  }
 ],
 "metadata": {
  "kernelspec": {
   "display_name": "Python 3",
   "language": "python",
   "name": "python3"
  },
  "language_info": {
   "codemirror_mode": {
    "name": "ipython",
    "version": 3
   },
   "file_extension": ".py",
   "mimetype": "text/x-python",
   "name": "python",
   "nbconvert_exporter": "python",
   "pygments_lexer": "ipython3",
   "version": "3.5.6"
  }
 },
 "nbformat": 4,
 "nbformat_minor": 2
}

{
 "cells": [
  {
   "cell_type": "markdown",
   "metadata": {},
   "source": [
    "# Island Count\n",
    "\n",
    "Given a 2D array binaryMatrix of 0s and 1s, implement a function getNumberOfIslands that returns the number of islands of 1s in binaryMatrix.\n",
    "\n",
    "An island is defined as a group of adjacent values that are all 1s. A cell in binaryMatrix is considered adjacent to another cell if they are next to each either on the same row or column. Note that two values of 1 are not part of the same island if they’re sharing only a mutual “corner” (i.e. they are diagonally neighbors).\n",
    "\n",
    "Explain and code the most efficient solution possible and analyze its time and space complexities.\n",
    "\n",
    "Example:\n",
    "\n",
    "```\n",
    "input:  binaryMatrix = [ [0,    1,    0,    1,    0],\n",
    "                         [0,    0,    1,    1,    1],\n",
    "                         [1,    0,    0,    1,    0],\n",
    "                         [0,    1,    1,    0,    0],\n",
    "                         [1,    0,    1,    0,    1] ]\n",
    "\n",
    "output: 6 # since this is the number of islands in binaryMatrix.\n",
    "          # See all 6 islands color-coded below.\n",
    "```\n",
    "\n",
    "<center><img src=\"./img09.png\",width=200></center>\n",
    "\n",
    "Constraints:\n",
    "\n",
    "- [time limit] 5000ms\n",
    "- [input] array.array.int binaryMatrix\n",
    "   - 1 ≤ binaryMatrix.length ≤ 100\n",
    "   - 1 ≤ binaryMatrix[i].length ≤ 100\n",
    "- [output] integer"
   ]
  },
  {
   "cell_type": "code",
   "execution_count": 1,
   "metadata": {},
   "outputs": [],
   "source": [
    "def get_number_of_islands(binaryMatrix):\n",
    "  # loop through each element in the binarymatrix\n",
    "  # if the element is one, then i will look at the adj value until i can't any\n",
    "  # then i will mark them in dict/matrix saying that they belong to a group, \n",
    "  # and then move on\n",
    "  # do the above iteratively until i get through all the numbers\n",
    "  \n",
    "    def search_neighbor(binaryMatrix, center_r, center_c):\n",
    "        if center_r >= 0 and \\\n",
    "           center_c >= 0 and \\\n",
    "           center_r < len(binaryMatrix) and \\\n",
    "           center_c < len(binaryMatrix[0]):\n",
    "            if binaryMatrix[center_r][center_c] == 1:\n",
    "                binaryMatrix[center_r][center_c] = -1 \n",
    "                binaryMatrix = search_neighbor(binaryMatrix, center_r+1, center_c) \n",
    "                binaryMatrix = search_neighbor(binaryMatrix, center_r, center_c+1)\n",
    "                binaryMatrix = search_neighbor(binaryMatrix, center_r-1, center_c)\n",
    "                binaryMatrix = search_neighbor(binaryMatrix, center_r, center_c-1)\n",
    "        return binaryMatrix\n",
    "\n",
    "    no_islands = 0\n",
    "    len_h, len_w = len(binaryMatrix), len(binaryMatrix[0])\n",
    "    for row in range(len_h):\n",
    "        for col in range(len_w):\n",
    "            if binaryMatrix[row][col] == 1: #re-do check conditions here\n",
    "                binaryMatrix = search_neighbor(binaryMatrix, row, col)\n",
    "                no_islands += 1\n",
    "            else:\n",
    "                binaryMatrix[row][col] = -1\n",
    "    return no_islands\n"
   ]
  },
  {
   "cell_type": "code",
   "execution_count": 2,
   "metadata": {},
   "outputs": [],
   "source": [
    "binaryMatrix = [ [0,    0,    0,    1,    0],\n",
    "                 [0,    0,    1,    1,    1],\n",
    "                 [1,    0,    0,    1,    0],\n",
    "                 [0,    1,    1,    0,    0],\n",
    "                 [0,    0,    1,    0,    1] ]"
   ]
  },
  {
   "cell_type": "code",
   "execution_count": 3,
   "metadata": {},
   "outputs": [
    {
     "name": "stdout",
     "output_type": "stream",
     "text": [
      "4\n"
     ]
    }
   ],
   "source": [
    "print(get_number_of_islands(binaryMatrix))"
   ]
  }
 ],
 "metadata": {
  "kernelspec": {
   "display_name": "py36",
   "language": "python",
   "name": "py36"
  },
  "language_info": {
   "codemirror_mode": {
    "name": "ipython",
    "version": 3
   },
   "file_extension": ".py",
   "mimetype": "text/x-python",
   "name": "python",
   "nbconvert_exporter": "python",
   "pygments_lexer": "ipython3",
   "version": "3.6.7"
  },
  "varInspector": {
   "cols": {
    "lenName": 16,
    "lenType": 16,
    "lenVar": 40
   },
   "kernels_config": {
    "python": {
     "delete_cmd_postfix": "",
     "delete_cmd_prefix": "del ",
     "library": "var_list.py",
     "varRefreshCmd": "print(var_dic_list())"
    },
    "r": {
     "delete_cmd_postfix": ") ",
     "delete_cmd_prefix": "rm(",
     "library": "var_list.r",
     "varRefreshCmd": "cat(var_dic_list()) "
    }
   },
   "oldHeight": 122,
   "position": {
    "height": "40px",
    "left": "1319px",
    "right": "20px",
    "top": "120px",
    "width": "250px"
   },
   "types_to_exclude": [
    "module",
    "function",
    "builtin_function_or_method",
    "instance",
    "_Feature"
   ],
   "varInspector_section_display": "none",
   "window_display": true
  }
 },
 "nbformat": 4,
 "nbformat_minor": 2
}

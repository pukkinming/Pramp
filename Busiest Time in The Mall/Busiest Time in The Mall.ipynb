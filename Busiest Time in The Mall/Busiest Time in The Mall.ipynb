{
 "cells": [
  {
   "cell_type": "markdown",
   "metadata": {},
   "source": [
    "# Busiest Time in The Mall\n",
    "\n",
    "The Westfield Mall management is trying to figure out what the busiest moment at the mall was last year. You’re given data extracted from the mall’s door detectors. Each data point is represented as an integer array whose size is 3. The values at indices 0, 1 and 2 are the timestamp, the count of visitors, and whether the visitors entered or exited the mall (0 for exit and 1 for entrance), respectively. Here’s an example of a data point: [ 1440084737, 4, 0 ].\n",
    "\n",
    "Note that time is given in a Unix format called Epoch, which is a nonnegative integer holding the number of seconds that have elapsed since 00:00:00 UTC, Thursday, 1 January 1970.\n",
    "\n",
    "Given an array, data, of data points, write a function findBusiestPeriod that returns the time at which the mall reached its busiest moment last year. The return value is the timestamp, e.g. 1480640292. Note that if there is more than one period with the same visitor peak, return the earliest one.\n",
    "\n",
    "Assume that the array data is sorted in an ascending order by the timestamp. Explain your solution and analyze its time and space complexities.\n",
    "\n",
    "## Example:\n",
    "- input: data = [ [1487799425, 14, 1], [1487799425, 4,  0], [1487799425, 2,  0], [1487800378, 10, 1], [1487801478, 18, 0], [1487801478, 18, 1], [1487901013, 1,  0], [1487901211, 7,  1], [1487901211, 7,  0] ]\n",
    "- output: 1487800378 \n",
    "(since the increase in the number of people in the mall is the highest at that point)\n",
    "                   \n",
    "                   \n",
    "## Constraints:\n",
    "- [time limit] 5000ms\n",
    "- [input] array.array.integer data, 1 ≤ data.length ≤ 100\n",
    "- [output] integer"
   ]
  },
  {
   "cell_type": "code",
   "execution_count": 1,
   "metadata": {},
   "outputs": [],
   "source": [
    "def find_busiest_period(data):\n",
    "    count, maxCount, maxPeriodTime = 0, 0, 0\n",
    "    for i in range(len(data)):\n",
    "        # update count\n",
    "        if (data[i][2] == 1): # visitors entered the mall  \n",
    "            count += data[i][1]\n",
    "        elif (data[i][2] == 0): # visitors existed the mall\n",
    "            count -= data[i][1]\n",
    "\n",
    "        # check for other data points with the same timestamp\n",
    "        if (i < len(data)-1 and data[i][0] == data[i+1][0]):\n",
    "            continue\n",
    "\n",
    "        # update maximum\n",
    "        if (count > maxCount):\n",
    "            maxCount = count\n",
    "            maxPeriodTime = data[i][0]\n",
    "\n",
    "    return maxPeriodTime"
   ]
  },
  {
   "cell_type": "code",
   "execution_count": 2,
   "metadata": {},
   "outputs": [
    {
     "name": "stdout",
     "output_type": "stream",
     "text": [
      "1487800378\n"
     ]
    }
   ],
   "source": [
    "data = [ [1487799425, 14, 1], \n",
    "         [1487799425, 4,  0],\n",
    "         [1487799425, 2,  0],\n",
    "         [1487800378, 10, 1],\n",
    "         [1487801478, 18, 0],\n",
    "         [1487801478, 18, 1],\n",
    "         [1487901013, 1,  0],\n",
    "         [1487901211, 7,  1],\n",
    "         [1487901211, 7,  0] ]\n",
    "         \n",
    "\n",
    "print(find_busiest_period(data))"
   ]
  }
 ],
 "metadata": {
  "kernelspec": {
   "display_name": "Python 3",
   "language": "python",
   "name": "python3"
  },
  "language_info": {
   "codemirror_mode": {
    "name": "ipython",
    "version": 3
   },
   "file_extension": ".py",
   "mimetype": "text/x-python",
   "name": "python",
   "nbconvert_exporter": "python",
   "pygments_lexer": "ipython3",
   "version": "3.5.6"
  }
 },
 "nbformat": 4,
 "nbformat_minor": 2
}

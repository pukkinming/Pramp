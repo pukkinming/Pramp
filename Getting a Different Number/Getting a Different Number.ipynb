{
 "cells": [
  {
   "cell_type": "markdown",
   "metadata": {},
   "source": [
    "# Getting a Different Number\n",
    "\n",
    "Given an array `arr` of unique nonnegative integers, implement a function getDifferentNumber that finds the smallest nonnegative integer that is NOT in the array.\n",
    "\n",
    "Even if your programming language of choice doesn’t have that restriction (like Python), assume that the maximum value an integer can have is `MAX_INT = 2^31-1`. So, for instance, the operation `MAX_INT + 1` would be undefined in our case.\n",
    "\n",
    "Your algorithm should be efficient, both from a time and a space complexity perspectives.\n",
    "\n",
    "Solve first for the case when you’re NOT allowed to modify the input arr. If successful and still have time, see if you can come up with an algorithm with an improved space complexity when modifying arr is allowed. Do so without trading off the time complexity.\n",
    "\n",
    "Analyze the time and space complexities of your algorithm.\n",
    "\n",
    "## Example\n",
    "```\n",
    "input:  arr = [0, 1, 2, 3]\n",
    "\n",
    "output: 4 \n",
    "```"
   ]
  },
  {
   "cell_type": "code",
   "execution_count": 1,
   "metadata": {},
   "outputs": [],
   "source": [
    "def get_different_number_v1(arr):\n",
    "    arr_sorted = sorted(arr)\n",
    "    for i in range(len(arr)):\n",
    "        if (arr_sorted[i] != i):\n",
    "            return i\n",
    "    return len(arr)"
   ]
  },
  {
   "cell_type": "code",
   "execution_count": 2,
   "metadata": {},
   "outputs": [
    {
     "name": "stdout",
     "output_type": "stream",
     "text": [
      "2\n",
      "CPU times: user 602 µs, sys: 61 µs, total: 663 µs\n",
      "Wall time: 724 µs\n"
     ]
    }
   ],
   "source": [
    "%%time\n",
    "\n",
    "arr = [0,4,3,1,8,9,10,11,12,13]\n",
    "print(get_different_number_v1(arr))"
   ]
  },
  {
   "cell_type": "code",
   "execution_count": 3,
   "metadata": {},
   "outputs": [],
   "source": [
    "def get_different_number_v2(arr):\n",
    "    arr_set = set(arr)\n",
    "    for i in range(len(arr)):\n",
    "        if i not in arr_set:\n",
    "            return i\n",
    "    return len(arr)"
   ]
  },
  {
   "cell_type": "code",
   "execution_count": 4,
   "metadata": {},
   "outputs": [
    {
     "name": "stdout",
     "output_type": "stream",
     "text": [
      "2\n",
      "CPU times: user 85 µs, sys: 10 µs, total: 95 µs\n",
      "Wall time: 98.5 µs\n"
     ]
    }
   ],
   "source": [
    "%%time\n",
    "\n",
    "arr = [0,4,3,1,8,9,10,11,12,13]\n",
    "print(get_different_number_v2(arr))"
   ]
  },
  {
   "cell_type": "code",
   "execution_count": 5,
   "metadata": {},
   "outputs": [],
   "source": [
    "def get_different_number_v3(arr):\n",
    "    for i in range(len(arr)):\n",
    "        temp = arr[i]\n",
    "        while (temp < len(arr) and arr[temp] != temp):\n",
    "            swap_temp = arr[temp]\n",
    "            arr[temp] = temp\n",
    "            temp = swap_temp\n",
    "            \n",
    "    for i in range(len(arr)):\n",
    "        if (arr[i] != i):\n",
    "            return i\n",
    "    return len(arr)"
   ]
  },
  {
   "cell_type": "code",
   "execution_count": 6,
   "metadata": {},
   "outputs": [
    {
     "name": "stdout",
     "output_type": "stream",
     "text": [
      "2\n",
      "CPU times: user 100 µs, sys: 10 µs, total: 110 µs\n",
      "Wall time: 114 µs\n"
     ]
    }
   ],
   "source": [
    "%%time\n",
    "\n",
    "arr = [0,4,3,1,8,9,10,11,12,13]\n",
    "print(get_different_number_v3(arr))"
   ]
  }
 ],
 "metadata": {
  "kernelspec": {
   "display_name": "Python 3",
   "language": "python",
   "name": "python3"
  },
  "language_info": {
   "codemirror_mode": {
    "name": "ipython",
    "version": 3
   },
   "file_extension": ".py",
   "mimetype": "text/x-python",
   "name": "python",
   "nbconvert_exporter": "python",
   "pygments_lexer": "ipython3",
   "version": "3.5.6"
  },
  "varInspector": {
   "cols": {
    "lenName": 16,
    "lenType": 16,
    "lenVar": 40
   },
   "kernels_config": {
    "python": {
     "delete_cmd_postfix": "",
     "delete_cmd_prefix": "del ",
     "library": "var_list.py",
     "varRefreshCmd": "print(var_dic_list())"
    },
    "r": {
     "delete_cmd_postfix": ") ",
     "delete_cmd_prefix": "rm(",
     "library": "var_list.r",
     "varRefreshCmd": "cat(var_dic_list()) "
    }
   },
   "types_to_exclude": [
    "module",
    "function",
    "builtin_function_or_method",
    "instance",
    "_Feature"
   ],
   "window_display": true
  }
 },
 "nbformat": 4,
 "nbformat_minor": 2
}

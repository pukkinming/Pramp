{
 "cells": [
  {
   "cell_type": "markdown",
   "metadata": {},
   "source": [
    "# Bracket Match\n",
    "\n",
    "A string of brackets is considered correctly matched if every opening bracket in the string can be paired up with a later closing bracket, and vice versa. For instance, “(())()” is correctly matched, whereas “)(“ and “((” aren’t. For instance, “((” could become correctly matched by adding two closing brackets at the end, so you’d return 2.\n",
    "\n",
    "Given a string that consists of brackets, write a function bracketMatch that takes a bracket string as an input and returns the minimum number of brackets you’d need to add to the input in order to make it correctly matched.\n",
    "\n",
    "Explain the correctness of your code, and analyze its time and space complexities.\n",
    "\n",
    "## Examples:\n",
    "\n",
    "- input:  text = “(()”\n",
    "- output: 1\n",
    "<br/>\n",
    "- input:  text = “(())”\n",
    "- output: 0\n",
    "<br/>\n",
    "- input:  text = “())(”\n",
    "- output: 2\n",
    "<br/>\n",
    "\n",
    "## Constraints:\n",
    "- [time limit] 5000ms\n",
    "- [input] string text, 1 ≤ text.length ≤ 5000\n",
    "- [output] integer"
   ]
  },
  {
   "cell_type": "code",
   "execution_count": 1,
   "metadata": {},
   "outputs": [],
   "source": [
    "def bracket_match(text):\n",
    "  record = [] # = \"((\"\n",
    "  no = 0\n",
    "  for i in range(len(text)):\n",
    "    if not record: # record = []\n",
    "      if text[i] == ')':\n",
    "        no += 1       \n",
    "      else:\n",
    "        record.append(text[i])\n",
    "    else:\n",
    "      if text[i] == '(':\n",
    "        record.append(text[i])\n",
    "      else:\n",
    "        record.pop()\n",
    "          \n",
    "  return len(record) + no"
   ]
  },
  {
   "cell_type": "code",
   "execution_count": 2,
   "metadata": {},
   "outputs": [
    {
     "name": "stdout",
     "output_type": "stream",
     "text": [
      "0\n"
     ]
    }
   ],
   "source": [
    "text = '()()'\n",
    "print(bracket_match(text))"
   ]
  },
  {
   "cell_type": "code",
   "execution_count": 3,
   "metadata": {},
   "outputs": [
    {
     "name": "stdout",
     "output_type": "stream",
     "text": [
      "2\n"
     ]
    }
   ],
   "source": [
    "text = '()()))(())'\n",
    "print(bracket_match(text))"
   ]
  }
 ],
 "metadata": {
  "kernelspec": {
   "display_name": "Python 3",
   "language": "python",
   "name": "python3"
  },
  "language_info": {
   "codemirror_mode": {
    "name": "ipython",
    "version": 3
   },
   "file_extension": ".py",
   "mimetype": "text/x-python",
   "name": "python",
   "nbconvert_exporter": "python",
   "pygments_lexer": "ipython3",
   "version": "3.5.6"
  }
 },
 "nbformat": 4,
 "nbformat_minor": 2
}
